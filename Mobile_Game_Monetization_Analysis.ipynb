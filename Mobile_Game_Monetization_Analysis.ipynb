{
  "nbformat": 4,
  "nbformat_minor": 0,
  "metadata": {
    "colab": {
      "provenance": []
    },
    "kernelspec": {
      "name": "python3",
      "display_name": "Python 3"
    },
    "language_info": {
      "name": "python"
    }
  },
  "cells": [
    {
      "cell_type": "markdown",
      "source": [
        "# Анализ монетизации мобильных игр\n",
        "**Автор**: Исакова Дарья  \n",
        "**Дата**: 21 октября 2025  \n",
        "**Инструменты**: Python (pandas, matplotlib)  \n",
        "**Датасет**: Mobile Game In-App Purchases 2025 (Kaggle, автор: Pratyush Puri, 3024 записи)  \n",
        "**Цель**: Выявить ключевые факторы монетизации, предложить рекомендации для роста выручки через A/B-тесты.  \n",
        "**Структура**:  \n",
        "1. Проверка данных  \n",
        "2. Вовлечённость по жанрам  \n",
        "3. Время до первого доната  \n",
        "4. Конверсия и средний чек по возрастам  \n",
        "5. Рекомендации"
      ],
      "metadata": {
        "id": "H-7TCYpVU0Yq"
      }
    },
    {
      "cell_type": "code",
      "execution_count": null,
      "metadata": {
        "colab": {
          "base_uri": "https://localhost:8080/"
        },
        "id": "agHu8yZAUdWd",
        "outputId": "37a2c2c1-8662-4081-daa8-539993fa7d62"
      },
      "outputs": [
        {
          "output_type": "stream",
          "name": "stdout",
          "text": [
            "Форма данных: (3024, 13)\n"
          ]
        }
      ],
      "source": [
        "import pandas as pd\n",
        "import matplotlib.pyplot as plt\n",
        "%matplotlib inline\n",
        "df = pd.read_csv('mobile_game_inapp_purchases.csv')\n",
        "print('Форма данных:', df.shape)"
      ]
    },
    {
      "cell_type": "markdown",
      "source": [
        "## 1. Проверка данных\n",
        "Общая статистика по датасету для понимания структуры и распределения."
      ],
      "metadata": {
        "id": "HtMP6XC9WGDL"
      }
    },
    {
      "cell_type": "code",
      "source": [
        "stats = df.describe()\n",
        "print('Основные статистики:')\n",
        "print(stats)\n",
        "\n",
        "mean_sessions = df['SessionCount'].mean()\n",
        "mean_purchase = df['InAppPurchaseAmount'].mean()\n",
        "missing_values = df[['Age', 'InAppPurchaseAmount']].isnull().sum()\n",
        "\n",
        "print(f'\\nСреднее число сессий: {mean_sessions:.2f}')\n",
        "print(f'Средний чек: ${mean_purchase:.2f}')\n",
        "print(f'Пропуски в данных:\\n{missing_values}')"
      ],
      "metadata": {
        "colab": {
          "base_uri": "https://localhost:8080/"
        },
        "id": "EnOlkcxQW0fy",
        "outputId": "43f584a3-7bef-4962-a56c-902c068aeb0f"
      },
      "execution_count": null,
      "outputs": [
        {
          "output_type": "stream",
          "name": "stdout",
          "text": [
            "Основные статистики:\n",
            "               Age  SessionCount  AverageSessionLength  InAppPurchaseAmount  \\\n",
            "count  2835.000000   2835.000000           2835.000000          2835.000000   \n",
            "mean     33.492416     10.065961             20.077637           103.760942   \n",
            "std      11.963521      3.126743              8.605564           458.247390   \n",
            "min      13.000000      1.000000              5.010000             0.000000   \n",
            "25%      23.000000      8.000000             12.630000             6.010000   \n",
            "50%      33.000000     10.000000             20.360000            11.990000   \n",
            "75%      44.000000     12.000000             27.450000            17.785000   \n",
            "max      54.000000     22.000000             34.990000          4964.450000   \n",
            "\n",
            "       FirstPurchaseDaysAfterInstall  \n",
            "count                    2835.000000  \n",
            "mean                       15.402116  \n",
            "std                         8.947538  \n",
            "min                         0.000000  \n",
            "25%                         8.000000  \n",
            "50%                        16.000000  \n",
            "75%                        23.000000  \n",
            "max                        30.000000  \n",
            "\n",
            "Среднее число сессий: 10.07\n",
            "Средний чек: $103.76\n",
            "Пропуски в данных:\n",
            "Age                    0\n",
            "InAppPurchaseAmount    0\n",
            "dtype: int64\n"
          ]
        }
      ]
    },
    {
      "cell_type": "code",
      "source": [
        "df = df.dropna(subset=['Age', 'InAppPurchaseAmount', 'SessionCount'])"
      ],
      "metadata": {
        "id": "VFgyJ6zCcSCi"
      },
      "execution_count": null,
      "outputs": []
    },
    {
      "cell_type": "markdown",
      "source": [
        "## 1.1. Результаты проверки данных\n",
        "- Среднее число сессий: 10.07 - игроки активны, возвращаются часто.\n",
        "- Средний чек: 102.58 долларов - высокий для мобильных игр (отраслевой стандарт: 5–20 долларов)"
      ],
      "metadata": {
        "id": "WSEig9XUWMdx"
      }
    },
    {
      "cell_type": "code",
      "source": [
        "print('Кол-во уникальных игроков:', df['UserID'].nunique())\n",
        "print('Конверсия в донат:', round((df['InAppPurchaseAmount'] > 0).mean() * 100, 1), '%')"
      ],
      "metadata": {
        "colab": {
          "base_uri": "https://localhost:8080/"
        },
        "id": "L94u8z69Ye8J",
        "outputId": "8e04f785-6dab-4828-9ea5-5ba09a17a051"
      },
      "execution_count": null,
      "outputs": [
        {
          "output_type": "stream",
          "name": "stdout",
          "text": [
            "Кол-во уникальных игроков: 3024\n",
            "Конверсия в донат: 95.5 %\n"
          ]
        }
      ]
    },
    {
      "cell_type": "markdown",
      "source": [
        "## 2. Вовлечённость по жанрам\n",
        "Анализ среднего количества сессий по жанрам для выявления наиболее активных."
      ],
      "metadata": {
        "id": "hKKS27ANY-G5"
      }
    },
    {
      "cell_type": "code",
      "source": [
        "genre_mean = df.groupby('GameGenre')['SessionCount'].mean().sort_values(ascending=False)\n",
        "genre_mean"
      ],
      "metadata": {
        "colab": {
          "base_uri": "https://localhost:8080/",
          "height": 585
        },
        "id": "UJYMwkKhZB_R",
        "outputId": "11d4bc12-d67a-427d-daa5-7afca0466979"
      },
      "execution_count": null,
      "outputs": [
        {
          "output_type": "execute_result",
          "data": {
            "text/plain": [
              "GameGenre\n",
              "Role Playing     10.341969\n",
              "Card             10.321782\n",
              "Simulation       10.292237\n",
              "Puzzle           10.291262\n",
              "Adventure        10.188235\n",
              "Sandbox          10.159817\n",
              "MMORPG           10.151515\n",
              "Strategy         10.141414\n",
              "MOBA             10.016575\n",
              "Casual            9.947368\n",
              "Battle Royale     9.947090\n",
              "Action RPG        9.916230\n",
              "Sports            9.894009\n",
              "Fighting          9.712707\n",
              "Racing            9.623037\n",
              "Name: SessionCount, dtype: float64"
            ],
            "text/html": [
              "<div>\n",
              "<style scoped>\n",
              "    .dataframe tbody tr th:only-of-type {\n",
              "        vertical-align: middle;\n",
              "    }\n",
              "\n",
              "    .dataframe tbody tr th {\n",
              "        vertical-align: top;\n",
              "    }\n",
              "\n",
              "    .dataframe thead th {\n",
              "        text-align: right;\n",
              "    }\n",
              "</style>\n",
              "<table border=\"1\" class=\"dataframe\">\n",
              "  <thead>\n",
              "    <tr style=\"text-align: right;\">\n",
              "      <th></th>\n",
              "      <th>SessionCount</th>\n",
              "    </tr>\n",
              "    <tr>\n",
              "      <th>GameGenre</th>\n",
              "      <th></th>\n",
              "    </tr>\n",
              "  </thead>\n",
              "  <tbody>\n",
              "    <tr>\n",
              "      <th>Role Playing</th>\n",
              "      <td>10.341969</td>\n",
              "    </tr>\n",
              "    <tr>\n",
              "      <th>Card</th>\n",
              "      <td>10.321782</td>\n",
              "    </tr>\n",
              "    <tr>\n",
              "      <th>Simulation</th>\n",
              "      <td>10.292237</td>\n",
              "    </tr>\n",
              "    <tr>\n",
              "      <th>Puzzle</th>\n",
              "      <td>10.291262</td>\n",
              "    </tr>\n",
              "    <tr>\n",
              "      <th>Adventure</th>\n",
              "      <td>10.188235</td>\n",
              "    </tr>\n",
              "    <tr>\n",
              "      <th>Sandbox</th>\n",
              "      <td>10.159817</td>\n",
              "    </tr>\n",
              "    <tr>\n",
              "      <th>MMORPG</th>\n",
              "      <td>10.151515</td>\n",
              "    </tr>\n",
              "    <tr>\n",
              "      <th>Strategy</th>\n",
              "      <td>10.141414</td>\n",
              "    </tr>\n",
              "    <tr>\n",
              "      <th>MOBA</th>\n",
              "      <td>10.016575</td>\n",
              "    </tr>\n",
              "    <tr>\n",
              "      <th>Casual</th>\n",
              "      <td>9.947368</td>\n",
              "    </tr>\n",
              "    <tr>\n",
              "      <th>Battle Royale</th>\n",
              "      <td>9.947090</td>\n",
              "    </tr>\n",
              "    <tr>\n",
              "      <th>Action RPG</th>\n",
              "      <td>9.916230</td>\n",
              "    </tr>\n",
              "    <tr>\n",
              "      <th>Sports</th>\n",
              "      <td>9.894009</td>\n",
              "    </tr>\n",
              "    <tr>\n",
              "      <th>Fighting</th>\n",
              "      <td>9.712707</td>\n",
              "    </tr>\n",
              "    <tr>\n",
              "      <th>Racing</th>\n",
              "      <td>9.623037</td>\n",
              "    </tr>\n",
              "  </tbody>\n",
              "</table>\n",
              "</div><br><label><b>dtype:</b> float64</label>"
            ]
          },
          "metadata": {},
          "execution_count": 5
        }
      ]
    },
    {
      "cell_type": "markdown",
      "source": [
        "Role Playing: 10.34 сессии, Card: 10.32. Разница минимальна (<1%).  \n",
        "Вывод: жанры почти идентичны по вовлечённости, фокус - на удержании игроков, а не на жанровых фичах."
      ],
      "metadata": {
        "id": "L_LWVhnxZGFi"
      }
    },
    {
      "cell_type": "code",
      "source": [
        "genre_mean.head(5).plot(kind='bar', color='orange', figsize=(9, 5))\n",
        "plt.title('Среднее число сессий по жанрам')\n",
        "plt.ylabel('Количество сессий')\n",
        "plt.xlabel('Жанр')\n",
        "plt.xticks(rotation=45)\n",
        "plt.tight_layout()\n",
        "plt.show()"
      ],
      "metadata": {
        "colab": {
          "base_uri": "https://localhost:8080/",
          "height": 507
        },
        "id": "shxZAvhYZFix",
        "outputId": "c112f68e-9a54-4bf1-81cb-03134a00760d"
      },
      "execution_count": null,
      "outputs": [
        {
          "output_type": "display_data",
          "data": {
            "text/plain": [
              "<Figure size 900x500 with 1 Axes>"
            ],
            "image/png": "[encoded data removed]"
          },
          "metadata": {}
        }
      ]
    },
    {
      "cell_type": "markdown",
      "source": [
        "## 3. Время до первого доната\n",
        "Анализ времени от установки до первой покупки для оценки скорости монетизации."
      ],
      "metadata": {
        "id": "B-mlA721Zi9y"
      }
    },
    {
      "cell_type": "code",
      "source": [
        "quantiles = df['FirstPurchaseDaysAfterInstall'].quantile([0.25, 0.5, 0.75])\n",
        "quantiles"
      ],
      "metadata": {
        "colab": {
          "base_uri": "https://localhost:8080/",
          "height": 178
        },
        "id": "fqNH-rtFZl-x",
        "outputId": "847323b2-d86a-4273-d3ad-79d99498b190"
      },
      "execution_count": null,
      "outputs": [
        {
          "output_type": "execute_result",
          "data": {
            "text/plain": [
              "0.25     8.0\n",
              "0.50    16.0\n",
              "0.75    23.0\n",
              "Name: FirstPurchaseDaysAfterInstall, dtype: float64"
            ],
            "text/html": [
              "<div>\n",
              "<style scoped>\n",
              "    .dataframe tbody tr th:only-of-type {\n",
              "        vertical-align: middle;\n",
              "    }\n",
              "\n",
              "    .dataframe tbody tr th {\n",
              "        vertical-align: top;\n",
              "    }\n",
              "\n",
              "    .dataframe thead th {\n",
              "        text-align: right;\n",
              "    }\n",
              "</style>\n",
              "<table border=\"1\" class=\"dataframe\">\n",
              "  <thead>\n",
              "    <tr style=\"text-align: right;\">\n",
              "      <th></th>\n",
              "      <th>FirstPurchaseDaysAfterInstall</th>\n",
              "    </tr>\n",
              "  </thead>\n",
              "  <tbody>\n",
              "    <tr>\n",
              "      <th>0.25</th>\n",
              "      <td>8.0</td>\n",
              "    </tr>\n",
              "    <tr>\n",
              "      <th>0.50</th>\n",
              "      <td>16.0</td>\n",
              "    </tr>\n",
              "    <tr>\n",
              "      <th>0.75</th>\n",
              "      <td>23.0</td>\n",
              "    </tr>\n",
              "  </tbody>\n",
              "</table>\n",
              "</div><br><label><b>dtype:</b> float64</label>"
            ]
          },
          "metadata": {},
          "execution_count": 11
        }
      ]
    },
    {
      "cell_type": "markdown",
      "source": [
        "Квартили времени до первого доната:  \n",
        "- 25% игроков платят в первые 8 дней.  \n",
        "- Медиана: 16 дней.  \n",
        "- 75% платят до 23 дней.  \n",
        "Вывод: половина игроков донатит слишком поздно, что увеличивает риск оттока."
      ],
      "metadata": {
        "id": "kau8roODZpWR"
      }
    },
    {
      "cell_type": "code",
      "source": [
        "df['FirstPurchaseDaysAfterInstall'].hist(bins=30, color='lightcoral', figsize=(9, 5))\n",
        "plt.title('Распределение времени до первого доната')\n",
        "plt.xlabel('Дни после установки')\n",
        "plt.ylabel('Количество игроков')\n",
        "plt.tight_layout()\n",
        "plt.show()"
      ],
      "metadata": {
        "colab": {
          "base_uri": "https://localhost:8080/",
          "height": 507
        },
        "id": "3NS_x4-MZw3a",
        "outputId": "b9fe5d78-6417-42c7-c675-de42c8100d21"
      },
      "execution_count": null,
      "outputs": [
        {
          "output_type": "display_data",
          "data": {
            "text/plain": [
              "<Figure size 900x500 with 1 Axes>"
            ],
            "image/png": "[encoded data removed]"
          },
          "metadata": {}
        }
      ]
    },
    {
      "cell_type": "markdown",
      "source": [
        "## 4. Конверсия и средний чек по возрастам\n",
        "Исследование платежей по возрастным группам для сегментации аудитории."
      ],
      "metadata": {
        "id": "yWytOTakZ1bb"
      }
    },
    {
      "cell_type": "code",
      "source": [
        "age_conversion = df.groupby('Age').agg({\n",
        "    'InAppPurchaseAmount': lambda x: (x > 0).mean() * 100\n",
        "}).rename(columns={'InAppPurchaseAmount': 'Conversion_%'}).sort_values(by='Conversion_%', ascending=False)\n",
        "age_conversion.head()"
      ],
      "metadata": {
        "colab": {
          "base_uri": "https://localhost:8080/",
          "height": 237
        },
        "id": "f9e9i7sEZ4Ix",
        "outputId": "b572f540-5511-4eea-ed6a-a22d5a69f517"
      },
      "execution_count": null,
      "outputs": [
        {
          "output_type": "execute_result",
          "data": {
            "text/plain": [
              "      Conversion_%\n",
              "Age               \n",
              "21.0    100.000000\n",
              "15.0    100.000000\n",
              "53.0    100.000000\n",
              "29.0     98.823529\n",
              "41.0     98.648649"
            ],
            "text/html": [
              "\n",
              "  <div id=\"df-a2d53632-4595-48ba-bd7f-a0e0c0ab7007\" class=\"colab-df-container\">\n",
              "    <div>\n",
              "<style scoped>\n",
              "    .dataframe tbody tr th:only-of-type {\n",
              "        vertical-align: middle;\n",
              "    }\n",
              "\n",
              "    .dataframe tbody tr th {\n",
              "        vertical-align: top;\n",
              "    }\n",
              "\n",
              "    .dataframe thead th {\n",
              "        text-align: right;\n",
              "    }\n",
              "</style>\n",
              "<table border=\"1\" class=\"dataframe\">\n",
              "  <thead>\n",
              "    <tr style=\"text-align: right;\">\n",
              "      <th></th>\n",
              "      <th>Conversion_%</th>\n",
              "    </tr>\n",
              "    <tr>\n",
              "      <th>Age</th>\n",
              "      <th></th>\n",
              "    </tr>\n",
              "  </thead>\n",
              "  <tbody>\n",
              "    <tr>\n",
              "      <th>21.0</th>\n",
              "      <td>100.000000</td>\n",
              "    </tr>\n",
              "    <tr>\n",
              "      <th>15.0</th>\n",
              "      <td>100.000000</td>\n",
              "    </tr>\n",
              "    <tr>\n",
              "      <th>53.0</th>\n",
              "      <td>100.000000</td>\n",
              "    </tr>\n",
              "    <tr>\n",
              "      <th>29.0</th>\n",
              "      <td>98.823529</td>\n",
              "    </tr>\n",
              "    <tr>\n",
              "      <th>41.0</th>\n",
              "      <td>98.648649</td>\n",
              "    </tr>\n",
              "  </tbody>\n",
              "</table>\n",
              "</div>\n",
              "    <div class=\"colab-df-buttons\">\n",
              "\n",
              "  <div class=\"colab-df-container\">\n",
              "    <button class=\"colab-df-convert\" onclick=\"convertToInteractive('df-a2d53632-4595-48ba-bd7f-a0e0c0ab7007')\"\n",
              "            title=\"Convert this dataframe to an interactive table.\"\n",
              "            style=\"display:none;\">\n",
              "\n",
              "  <svg xmlns=\"http://www.w3.org/2000/svg\" height=\"24px\" viewBox=\"0 -960 960 960\">\n",
              "    <path d=\"M120-120v-720h720v720H120Zm60-500h600v-160H180v160Zm220 220h160v-160H400v160Zm0 220h160v-160H400v160ZM180-400h160v-160H180v160Zm440 0h160v-160H620v160ZM180-180h160v-160H180v160Zm440 0h160v-160H620v160Z\"/>\n",
              "  </svg>\n",
              "    </button>\n",
              "\n",
              "  <style>\n",
              "    .colab-df-container {\n",
              "      display:flex;\n",
              "      gap: 12px;\n",
              "    }\n",
              "\n",
              "    .colab-df-convert {\n",
              "      background-color: #E8F0FE;\n",
              "      border: none;\n",
              "      border-radius: 50%;\n",
              "      cursor: pointer;\n",
              "      display: none;\n",
              "      fill: #1967D2;\n",
              "      height: 32px;\n",
              "      padding: 0 0 0 0;\n",
              "      width: 32px;\n",
              "    }\n",
              "\n",
              "    .colab-df-convert:hover {\n",
              "      background-color: #E2EBFA;\n",
              "      box-shadow: 0px 1px 2px rgba(60, 64, 67, 0.3), 0px 1px 3px 1px rgba(60, 64, 67, 0.15);\n",
              "      fill: #174EA6;\n",
              "    }\n",
              "\n",
              "    .colab-df-buttons div {\n",
              "      margin-bottom: 4px;\n",
              "    }\n",
              "\n",
              "    [theme=dark] .colab-df-convert {\n",
              "      background-color: #3B4455;\n",
              "      fill: #D2E3FC;\n",
              "    }\n",
              "\n",
              "    [theme=dark] .colab-df-convert:hover {\n",
              "      background-color: #434B5C;\n",
              "      box-shadow: 0px 1px 3px 1px rgba(0, 0, 0, 0.15);\n",
              "      filter: drop-shadow(0px 1px 2px rgba(0, 0, 0, 0.3));\n",
              "      fill: #FFFFFF;\n",
              "    }\n",
              "  </style>\n",
              "\n",
              "    <script>\n",
              "      const buttonEl =\n",
              "        document.querySelector('#df-a2d53632-4595-48ba-bd7f-a0e0c0ab7007 button.colab-df-convert');\n",
              "      buttonEl.style.display =\n",
              "        google.colab.kernel.accessAllowed ? 'block' : 'none';\n",
              "\n",
              "      async function convertToInteractive(key) {\n",
              "        const element = document.querySelector('#df-a2d53632-4595-48ba-bd7f-a0e0c0ab7007');\n",
              "        const dataTable =\n",
              "          await google.colab.kernel.invokeFunction('convertToInteractive',\n",
              "                                                    [key], {});\n",
              "        if (!dataTable) return;\n",
              "\n",
              "        const docLinkHtml = 'Like what you see? Visit the ' +\n",
              "          '<a target=\"_blank\" href=https://colab.research.google.com/notebooks/data_table.ipynb>data table notebook</a>'\n",
              "          + ' to learn more about interactive tables.';\n",
              "        element.innerHTML = '';\n",
              "        dataTable['output_type'] = 'display_data';\n",
              "        await google.colab.output.renderOutput(dataTable, element);\n",
              "        const docLink = document.createElement('div');\n",
              "        docLink.innerHTML = docLinkHtml;\n",
              "        element.appendChild(docLink);\n",
              "      }\n",
              "    </script>\n",
              "  </div>\n",
              "\n",
              "\n",
              "    <div id=\"df-286267f7-a682-4248-89e9-236db3f20eea\">\n",
              "      <button class=\"colab-df-quickchart\" onclick=\"quickchart('df-286267f7-a682-4248-89e9-236db3f20eea')\"\n",
              "                title=\"Suggest charts\"\n",
              "                style=\"display:none;\">\n",
              "\n",
              "<svg xmlns=\"http://www.w3.org/2000/svg\" height=\"24px\"viewBox=\"0 0 24 24\"\n",
              "     width=\"24px\">\n",
              "    <g>\n",
              "        <path d=\"M19 3H5c-1.1 0-2 .9-2 2v14c0 1.1.9 2 2 2h14c1.1 0 2-.9 2-2V5c0-1.1-.9-2-2-2zM9 17H7v-7h2v7zm4 0h-2V7h2v10zm4 0h-2v-4h2v4z\"/>\n",
              "    </g>\n",
              "</svg>\n",
              "      </button>\n",
              "\n",
              "<style>\n",
              "  .colab-df-quickchart {\n",
              "      --bg-color: #E8F0FE;\n",
              "      --fill-color: #1967D2;\n",
              "      --hover-bg-color: #E2EBFA;\n",
              "      --hover-fill-color: #174EA6;\n",
              "      --disabled-fill-color: #AAA;\n",
              "      --disabled-bg-color: #DDD;\n",
              "  }\n",
              "\n",
              "  [theme=dark] .colab-df-quickchart {\n",
              "      --bg-color: #3B4455;\n",
              "      --fill-color: #D2E3FC;\n",
              "      --hover-bg-color: #434B5C;\n",
              "      --hover-fill-color: #FFFFFF;\n",
              "      --disabled-bg-color: #3B4455;\n",
              "      --disabled-fill-color: #666;\n",
              "  }\n",
              "\n",
              "  .colab-df-quickchart {\n",
              "    background-color: var(--bg-color);\n",
              "    border: none;\n",
              "    border-radius: 50%;\n",
              "    cursor: pointer;\n",
              "    display: none;\n",
              "    fill: var(--fill-color);\n",
              "    height: 32px;\n",
              "    padding: 0;\n",
              "    width: 32px;\n",
              "  }\n",
              "\n",
              "  .colab-df-quickchart:hover {\n",
              "    background-color: var(--hover-bg-color);\n",
              "    box-shadow: 0 1px 2px rgba(60, 64, 67, 0.3), 0 1px 3px 1px rgba(60, 64, 67, 0.15);\n",
              "    fill: var(--button-hover-fill-color);\n",
              "  }\n",
              "\n",
              "  .colab-df-quickchart-complete:disabled,\n",
              "  .colab-df-quickchart-complete:disabled:hover {\n",
              "    background-color: var(--disabled-bg-color);\n",
              "    fill: var(--disabled-fill-color);\n",
              "    box-shadow: none;\n",
              "  }\n",
              "\n",
              "  .colab-df-spinner {\n",
              "    border: 2px solid var(--fill-color);\n",
              "    border-color: transparent;\n",
              "    border-bottom-color: var(--fill-color);\n",
              "    animation:\n",
              "      spin 1s steps(1) infinite;\n",
              "  }\n",
              "\n",
              "  @keyframes spin {\n",
              "    0% {\n",
              "      border-color: transparent;\n",
              "      border-bottom-color: var(--fill-color);\n",
              "      border-left-color: var(--fill-color);\n",
              "    }\n",
              "    20% {\n",
              "      border-color: transparent;\n",
              "      border-left-color: var(--fill-color);\n",
              "      border-top-color: var(--fill-color);\n",
              "    }\n",
              "    30% {\n",
              "      border-color: transparent;\n",
              "      border-left-color: var(--fill-color);\n",
              "      border-top-color: var(--fill-color);\n",
              "      border-right-color: var(--fill-color);\n",
              "    }\n",
              "    40% {\n",
              "      border-color: transparent;\n",
              "      border-right-color: var(--fill-color);\n",
              "      border-top-color: var(--fill-color);\n",
              "    }\n",
              "    60% {\n",
              "      border-color: transparent;\n",
              "      border-right-color: var(--fill-color);\n",
              "    }\n",
              "    80% {\n",
              "      border-color: transparent;\n",
              "      border-right-color: var(--fill-color);\n",
              "      border-bottom-color: var(--fill-color);\n",
              "    }\n",
              "    90% {\n",
              "      border-color: transparent;\n",
              "      border-bottom-color: var(--fill-color);\n",
              "    }\n",
              "  }\n",
              "</style>\n",
              "\n",
              "      <script>\n",
              "        async function quickchart(key) {\n",
              "          const quickchartButtonEl =\n",
              "            document.querySelector('#' + key + ' button');\n",
              "          quickchartButtonEl.disabled = true;  // To prevent multiple clicks.\n",
              "          quickchartButtonEl.classList.add('colab-df-spinner');\n",
              "          try {\n",
              "            const charts = await google.colab.kernel.invokeFunction(\n",
              "                'suggestCharts', [key], {});\n",
              "          } catch (error) {\n",
              "            console.error('Error during call to suggestCharts:', error);\n",
              "          }\n",
              "          quickchartButtonEl.classList.remove('colab-df-spinner');\n",
              "          quickchartButtonEl.classList.add('colab-df-quickchart-complete');\n",
              "        }\n",
              "        (() => {\n",
              "          let quickchartButtonEl =\n",
              "            document.querySelector('#df-286267f7-a682-4248-89e9-236db3f20eea button');\n",
              "          quickchartButtonEl.style.display =\n",
              "            google.colab.kernel.accessAllowed ? 'block' : 'none';\n",
              "        })();\n",
              "      </script>\n",
              "    </div>\n",
              "    </div>\n",
              "  </div>\n"
            ],
            "application/vnd.google.colaboratory.intrinsic+json": {
              "type": "dataframe",
              "variable_name": "age_conversion",
              "summary": "{\n  \"name\": \"age_conversion\",\n  \"rows\": 42,\n  \"fields\": [\n    {\n      \"column\": \"Age\",\n      \"properties\": {\n        \"dtype\": \"number\",\n        \"std\": 12.267844146385297,\n        \"min\": 13.0,\n        \"max\": 54.0,\n        \"num_unique_values\": 42,\n        \"samples\": [\n          36.0,\n          26.0,\n          48.0\n        ],\n        \"semantic_type\": \"\",\n        \"description\": \"\"\n      }\n    },\n    {\n      \"column\": \"Conversion_%\",\n      \"properties\": {\n        \"dtype\": \"number\",\n        \"std\": 2.949323870452527,\n        \"min\": 89.83050847457628,\n        \"max\": 100.0,\n        \"num_unique_values\": 37,\n        \"samples\": [\n          95.94594594594594,\n          97.14285714285714,\n          98.48484848484848\n        ],\n        \"semantic_type\": \"\",\n        \"description\": \"\"\n      }\n    }\n  ]\n}"
            }
          },
          "metadata": {},
          "execution_count": 14
        }
      ]
    },
    {
      "cell_type": "markdown",
      "source": [
        "Конверсия в донаты: 95.5% (выше отраслевого стандарта 15–20%).  \n",
        "Вывод: проблема не в доле платящих, а в скорости донатов и размере чека."
      ],
      "metadata": {
        "id": "cRwKzIewaGwy"
      }
    },
    {
      "cell_type": "code",
      "source": [
        "top_cheques = df.groupby('Age')['InAppPurchaseAmount'].mean().sort_values(ascending=False).head(3)\n",
        "top_cheques"
      ],
      "metadata": {
        "colab": {
          "base_uri": "https://localhost:8080/",
          "height": 209
        },
        "id": "ILX2wq6gaMUa",
        "outputId": "42d2cd44-389f-4459-9dba-62a7a9d91b46"
      },
      "execution_count": null,
      "outputs": [
        {
          "output_type": "execute_result",
          "data": {
            "text/plain": [
              "Age\n",
              "33.0    233.755846\n",
              "46.0    222.668182\n",
              "14.0    211.628696\n",
              "Name: InAppPurchaseAmount, dtype: float64"
            ],
            "text/html": [
              "<div>\n",
              "<style scoped>\n",
              "    .dataframe tbody tr th:only-of-type {\n",
              "        vertical-align: middle;\n",
              "    }\n",
              "\n",
              "    .dataframe tbody tr th {\n",
              "        vertical-align: top;\n",
              "    }\n",
              "\n",
              "    .dataframe thead th {\n",
              "        text-align: right;\n",
              "    }\n",
              "</style>\n",
              "<table border=\"1\" class=\"dataframe\">\n",
              "  <thead>\n",
              "    <tr style=\"text-align: right;\">\n",
              "      <th></th>\n",
              "      <th>InAppPurchaseAmount</th>\n",
              "    </tr>\n",
              "    <tr>\n",
              "      <th>Age</th>\n",
              "      <th></th>\n",
              "    </tr>\n",
              "  </thead>\n",
              "  <tbody>\n",
              "    <tr>\n",
              "      <th>33.0</th>\n",
              "      <td>233.755846</td>\n",
              "    </tr>\n",
              "    <tr>\n",
              "      <th>46.0</th>\n",
              "      <td>222.668182</td>\n",
              "    </tr>\n",
              "    <tr>\n",
              "      <th>14.0</th>\n",
              "      <td>211.628696</td>\n",
              "    </tr>\n",
              "  </tbody>\n",
              "</table>\n",
              "</div><br><label><b>dtype:</b> float64</label>"
            ]
          },
          "metadata": {},
          "execution_count": 15
        }
      ]
    },
    {
      "cell_type": "markdown",
      "source": [
        "Топ-3 возраста по среднему чеку:  \n",
        "- 33 года: 233.75 дол.\n",
        "- 46 лет: 222.67 дол.\n",
        "- 14 лет: 211.63 дол.\n",
        "Вывод: подростки (14 лет) платят за косметические предметы, взрослые (33–46 лет) — за прогресс или статус."
      ],
      "metadata": {
        "id": "ZsgROe-maQBK"
      }
    },
    {
      "cell_type": "code",
      "source": [
        "top_cheques.plot(kind='bar', color='seagreen', figsize=(7, 4))\n",
        "plt.title('Топ-3 возраста по среднему чеку')\n",
        "plt.ylabel('Средний чек, $')\n",
        "plt.xlabel('Возраст')\n",
        "plt.xticks(rotation=0)\n",
        "plt.tight_layout()\n",
        "plt.show()"
      ],
      "metadata": {
        "colab": {
          "base_uri": "https://localhost:8080/",
          "height": 407
        },
        "id": "hMLaDefIaj05",
        "outputId": "adb224b0-99f3-4aba-f3cc-13042f6bda0c"
      },
      "execution_count": null,
      "outputs": [
        {
          "output_type": "display_data",
          "data": {
            "text/plain": [
              "<Figure size 700x400 with 1 Axes>"
            ],
            "image/png": "[encoded data removed]"
          },
          "metadata": {}
        }
      ]
    },
    {
      "cell_type": "markdown",
      "source": [
        "## 5. Рекомендации\n",
        "1. **Ускорение первого доната**:  \n",
        "   A/B-тест: пуш-уведомление на 7-й день с 30% скидкой на стартовый набор.  \n",
        "   Цель: сдвинуть медиану с 16 до 9–10 дней, снизить отток.  \n",
        "\n",
        "2. **Сегментация по возрастам**:  \n",
        "   - Для 14 лет: пуш на 3-й день с акцией «Легендарный скин» за 0.99 дол..  \n",
        "   - Для 33–46 лет: пуш на 7-й день с «VIP-пассом» за 29.99 дол./мес (эксклюзивный контент).  \n",
        "   Ожидаемый эффект: рост выручки на 15-20% без увеличения затрат на маркетинг.  \n",
        "\n",
        "3. **Фокус на жанры**:  \n",
        "   Role Playing (10.34 сессии) - приоритет для новых функций (квесты, награды). Остальные жанры - поддержание текущего уровня."
      ],
      "metadata": {
        "id": "j2D71bkeanMD"
      }
    }
  ]
}